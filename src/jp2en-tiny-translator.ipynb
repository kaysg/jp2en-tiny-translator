{
 "cells": [
  {
   "cell_type": "markdown",
   "metadata": {},
   "source": [
    "# Tiny Japanese to English Translator"
   ]
  },
  {
   "cell_type": "markdown",
   "metadata": {},
   "source": [
    "- Purpose: To build a model to translate from Japanese to English using deep neural network\n",
    "- Keywords: Encoder, Decoder, Machine Translation, Pytorch"
   ]
  },
  {
   "cell_type": "code",
   "execution_count": 1,
   "metadata": {},
   "outputs": [],
   "source": [
    "from io import open\n",
    "import unicodedata\n",
    "import re\n",
    "import random\n",
    "import time\n",
    "import math\n",
    "\n",
    "import torch\n",
    "import torch.nn as nn\n",
    "from torch.autograd import Variable\n",
    "from torch import optim\n",
    "import torch.nn.functional as F\n",
    "\n",
    "import matplotlib.pyplot as plt\n",
    "import matplotlib.ticker as ticker\n",
    "font = {\"family\":\"IPAexGothic\"} #Japanese font\n",
    "plt.rc('font', **font)"
   ]
  },
  {
   "cell_type": "code",
   "execution_count": 2,
   "metadata": {},
   "outputs": [],
   "source": [
    "# 親ディレクトリのツールをインポート\n",
    "import sys,os\n",
    "sys.path.append(os.pardir)\n",
    "from utilities.NLPtools import *"
   ]
  },
  {
   "cell_type": "code",
   "execution_count": 3,
   "metadata": {},
   "outputs": [],
   "source": [
    "# cuda利用可能かチェック\n",
    "use_cuda = torch.cuda.is_available()"
   ]
  },
  {
   "cell_type": "code",
   "execution_count": 4,
   "metadata": {},
   "outputs": [],
   "source": [
    "# パラメータの初期化\n",
    "SOS_token = 0\n",
    "EOS_token = 1\n",
    "\n",
    "MAX_LENGTH = 10\n",
    "\n",
    "teacher_forcing_ratio = 0.5\n",
    "hidden_size = 256\n",
    "\n",
    "eng_prefixes = (\n",
    "    \"i am \", \"i m \",\n",
    "    \"he is\", \"he s \",\n",
    "    \"she is\", \"she s\",\n",
    "    \"you are\", \"you re \",\n",
    "    \"we are\", \"we re \",\n",
    "    \"they are\", \"they re \"\n",
    ")"
   ]
  },
  {
   "cell_type": "code",
   "execution_count": 5,
   "metadata": {},
   "outputs": [],
   "source": [
    "# 文字列を小文字へ統一するための関数\n",
    "def convert_str_to_lower_case(s):\n",
    "    \"\"\"\n",
    "    Replace char to lower letter\n",
    "    :param s: original string\n",
    "    :return: converted string\n",
    "    \"\"\"\n",
    "    s = s.lower().strip()\n",
    "    return s"
   ]
  },
  {
   "cell_type": "code",
   "execution_count": 6,
   "metadata": {},
   "outputs": [],
   "source": [
    "# 文字のインデックス、文字数を管理するためのクラス\n",
    "class Lang:\n",
    "    def __init__(self, name):\n",
    "        self.name = name\n",
    "        self.word2index = {}\n",
    "        self.word2count = {}\n",
    "        self.index2word = {0: \"SOS\", 1: \"EOS\"}\n",
    "        self.n_words = 2  # Count SOS and EOS\n",
    "\n",
    "    def addSentence(self, sentence, lang_name):\n",
    "        \"\"\"\n",
    "        After splitting to word chunk, update word2index, word2count, index2word list\n",
    "        :param sentence: input sentence\n",
    "        :lang_name: name of language\n",
    "        :return: self instance with updated property\n",
    "        \"\"\"\n",
    "        if lang_name in ['eng', 'fra']:\n",
    "            for word in sentence.split(' '):\n",
    "                self.addWord(word)\n",
    "        elif lang_name == 'jpn':\n",
    "            wakachi = mcb_tokenize(sentence)\n",
    "            for word in wakachi:\n",
    "                self.addWord(word)\n",
    "\n",
    "    def addWord(self, word):\n",
    "        if word not in self.word2index:\n",
    "            self.word2index[word] = self.n_words\n",
    "            self.word2count[word] = 1\n",
    "            self.index2word[self.n_words] = word\n",
    "            self.n_words += 1\n",
    "        else:\n",
    "            self.word2count[word] += 1"
   ]
  },
  {
   "cell_type": "code",
   "execution_count": 7,
   "metadata": {},
   "outputs": [],
   "source": [
    "# 特定のフォルダから、コーパスを読み込む。初めのカラムに収められる言語名、２番目のカラムに収められる言語名を指定\n",
    "# 今回は、lang1にeng, lang2にjpnを指定するが、reverseがTrueのため、入力言語がjpn,出力言語がengでテスト\n",
    "# Langクラスから作られた入力言語及び出力言語のインスタンスに加えて、ペアが収められたリストの３つを返す関数\n",
    "def readLangs(lang1, lang2, reverse=False):\n",
    "    \"\"\"\n",
    "    Open and read file to create sentence pair\n",
    "    :param lang1: First language name\n",
    "    :param lang2: Second language name\n",
    "    :param reverse: swap lang1 and lang2\n",
    "    :return: input language, output language and sentence pair\n",
    "    \"\"\"\n",
    "    print(\"Reading lines...\")\n",
    "\n",
    "    # Read the file and split into lines\n",
    "    lines = open('../data/machine_translation/%s-%s.txt' % (lang1, lang2), encoding='utf-8').\\\n",
    "        read().strip().split('\\n')\n",
    "\n",
    "    # Split every line into pairs and convert it to lower letter\n",
    "    pairs = [[convert_str_to_lower_case(s) for s in l.split('\\t')] for l in lines]\n",
    "\n",
    "    # Reverse pairs, make Lang instances\n",
    "    if reverse:\n",
    "        pairs = [list(reversed(p)) for p in pairs]\n",
    "        input_lang = Lang(lang2)\n",
    "        output_lang = Lang(lang1)\n",
    "    else:\n",
    "        input_lang = Lang(lang1)\n",
    "        output_lang = Lang(lang2)\n",
    "\n",
    "    return input_lang, output_lang, pairs"
   ]
  },
  {
   "cell_type": "code",
   "execution_count": 8,
   "metadata": {},
   "outputs": [],
   "source": [
    "# コーパスから特定の条件下にあるデータのみ抽出して返す関数\n",
    "# 条件1: 両言語MAX_LENGTH（１０）トークン未満、 条件2: 出力言語がeng_prefixesに登録されているフレーズで始まる\n",
    "# つまり今回は、特定のフレーズ（私は、彼は　etc）のみ対応した翻訳モデルを生成する\n",
    "def filterPair(p):\n",
    "    \"\"\"\n",
    "    If sentences length are less than 10 and English sentence starts with\n",
    "    prefix like 'i am', 'he is', return True\n",
    "    :param p: sentence pair\n",
    "    :return: True if condition is satisfied\n",
    "    \"\"\"\n",
    "    return len(mcb_tokenize(p[0])) < MAX_LENGTH and \\\n",
    "        len(p[1].split(' ')) < MAX_LENGTH and \\\n",
    "        p[1].startswith(eng_prefixes)"
   ]
  },
  {
   "cell_type": "code",
   "execution_count": 9,
   "metadata": {},
   "outputs": [],
   "source": [
    "# filterPair()を用いてコーパスからフィルタリングしたデータのみ収めたリスト（ペア文）を抽出する関数\n",
    "def filterPairs(pairs):\n",
    "    \"\"\"\n",
    "    Extract pairs to fulfill condition in filterPair\n",
    "    It is necessary to reduce time and improve accuracy for efficiency for this toy model\n",
    "    :param pairs: sequence pair list\n",
    "    :return: filtered sequence pair list\n",
    "    \"\"\"\n",
    "    return [pair for pair in pairs if filterPair(pair)]"
   ]
  },
  {
   "cell_type": "code",
   "execution_count": 10,
   "metadata": {},
   "outputs": [],
   "source": [
    "# readLangs()によってデータを読み込み、filterPairs()によってフィルタリングしたペア文を\n",
    "# インスタンスinput_lang、output_langに登録する関数\n",
    "# 更新されたインスタンス、及びペア文を戻す\n",
    "def prepareData(lang1, lang2, reverse=False):\n",
    "    \"\"\"\n",
    "    After reading sentence pair from file, filter them out, and append to word2index, word2count, index2word list\n",
    "    :param lang1: First language\n",
    "    :param lang2: Second language\n",
    "    :param reverse: option to swapt lang1 and lang2\n",
    "    :return: input_lang, output_lang, pairs\n",
    "    \"\"\"\n",
    "    input_lang, output_lang, pairs = readLangs(lang1, lang2, reverse)\n",
    "    print(\"Read %s sentence pairs\" % len(pairs))\n",
    "    pairs = filterPairs(pairs)\n",
    "    print(\"Trimmed to %s sentence pairs\" % len(pairs))\n",
    "    print(\"Counting words...\")\n",
    "    for pair in pairs:\n",
    "        input_lang.addSentence(pair[0],input_lang.name)\n",
    "        output_lang.addSentence(pair[1],output_lang.name)\n",
    "    print(\"Counted words:\")\n",
    "    print(input_lang.name, input_lang.n_words)\n",
    "    print(output_lang.name, output_lang.n_words)\n",
    "    #jpn 4589\n",
    "    #eng 2988\n",
    "    return input_lang, output_lang, pairs"
   ]
  },
  {
   "cell_type": "code",
   "execution_count": 11,
   "metadata": {},
   "outputs": [],
   "source": [
    "# エンコーダRNNクラス\n",
    "# 埋め込み層とGRU層を使って入力文（第一言語）から符号化されたデータoutputに加え、隠れ層の状態変数を返す\n",
    "class EncoderRNN(nn.Module):\n",
    "    \"\"\"\n",
    "     A GRU based seq2seq network that outputs embedded value for every word\n",
    "     from the input sentence\n",
    "     For every input word the encoder outputs a vector and a hidden state,\n",
    "     and uses the hidden state for the next input word.\n",
    "     input->embedding->embedded->gru-> output\n",
    "     prev_hiddedn-------^           -> hidden\n",
    "    \"\"\"\n",
    "    def __init__(self, input_size, hidden_size, n_layers=1):\n",
    "        super(EncoderRNN, self).__init__()\n",
    "        self.n_layers = n_layers\n",
    "        self.hidden_size = hidden_size\n",
    "\n",
    "        self.embedding = nn.Embedding(input_size, hidden_size)\n",
    "        self.gru = nn.GRU(hidden_size, hidden_size)\n",
    "\n",
    "    def forward(self, input, hidden):\n",
    "        embedded = self.embedding(input).view(1, 1, -1)\n",
    "        output = embedded\n",
    "        for i in range(self.n_layers):\n",
    "            output, hidden = self.gru(output, hidden)\n",
    "        return output, hidden\n",
    "\n",
    "    def initHidden(self):\n",
    "        result = Variable(torch.zeros(1, 1, self.hidden_size))\n",
    "        if use_cuda:\n",
    "            return result.cuda()\n",
    "        else:\n",
    "            return result"
   ]
  },
  {
   "cell_type": "code",
   "execution_count": 12,
   "metadata": {},
   "outputs": [],
   "source": [
    "# デコーダRNNクラス\n",
    "# 埋め込み層とGRU層を使って入力文（第２言語）から符号化されたデータoutputに加え、隠れ層の状態変数を返す\n",
    "class DecoderRNN(nn.Module):\n",
    "    \"\"\"\n",
    "    A simple decoder to takes the encoder output vector(s) and outputs\n",
    "    a sequence of words to create the translation.\n",
    "    input->embedding->relu->gru->out->softmax->output\n",
    "    prev_hiddedn-------^       --------------->hidden\n",
    "    \"\"\"\n",
    "    def __init__(self, hidden_size, output_size, n_layers=1):\n",
    "        super(DecoderRNN, self).__init__()\n",
    "        self.n_layers = n_layers\n",
    "        self.hidden_size = hidden_size\n",
    "\n",
    "        self.embedding = nn.Embedding(output_size, hidden_size)\n",
    "        self.gru = nn.GRU(hidden_size, hidden_size)\n",
    "        self.out = nn.Linear(hidden_size, output_size)\n",
    "        self.softmax = nn.LogSoftmax(dim=1)\n",
    "\n",
    "    def forward(self, input, hidden):\n",
    "        output = self.embedding(input).view(1, 1, -1)\n",
    "        for i in range(self.n_layers):\n",
    "            output = F.relu(output)\n",
    "            output, hidden = self.gru(output, hidden)\n",
    "        output = self.softmax(self.out(output[0]))\n",
    "        return output, hidden\n",
    "\n",
    "    def initHidden(self):\n",
    "        result = Variable(torch.zeros(1, 1, self.hidden_size))\n",
    "        if use_cuda:\n",
    "            return result.cuda()\n",
    "        else:\n",
    "            return result\n"
   ]
  },
  {
   "cell_type": "code",
   "execution_count": 13,
   "metadata": {},
   "outputs": [],
   "source": [
    "# アテンションメカニズム付きデコーダRNNクラス\n",
    "class AttnDecoderRNN(nn.Module):\n",
    "    \"\"\"\n",
    "    Decoder with Attention which allows the decoder network to “focus” on a different part\n",
    "    of the encoder’s outputs for every step of the decoder’s own outputs.\n",
    "    \"\"\"\n",
    "    def __init__(self, hidden_size, output_size, n_layers=1, dropout_p=0.1, max_length=MAX_LENGTH):\n",
    "        super(AttnDecoderRNN, self).__init__()\n",
    "        self.hidden_size = hidden_size\n",
    "        self.output_size = output_size\n",
    "        self.n_layers = n_layers\n",
    "        self.dropout_p = dropout_p\n",
    "        self.max_length = max_length\n",
    "\n",
    "        self.embedding = nn.Embedding(self.output_size, self.hidden_size)\n",
    "        self.attn = nn.Linear(self.hidden_size * 2, self.max_length)\n",
    "        self.attn_combine = nn.Linear(self.hidden_size * 2, self.hidden_size)\n",
    "        self.dropout = nn.Dropout(self.dropout_p)\n",
    "        self.gru = nn.GRU(self.hidden_size, self.hidden_size)\n",
    "        self.out = nn.Linear(self.hidden_size, self.output_size)\n",
    "\n",
    "    def forward(self, input, hidden, encoder_outputs):\n",
    "        embedded = self.embedding(input).view(1, 1, -1)\n",
    "        embedded = self.dropout(embedded)\n",
    "\n",
    "        attn_weights = F.softmax(\n",
    "            #self.attn(torch.cat((embedded[0], hidden[0]), 1)), dim=1)\n",
    "            self.attn(torch.cat((embedded[0], hidden[0]), 1)))\n",
    "        attn_applied = torch.bmm(attn_weights.unsqueeze(0),\n",
    "                                 encoder_outputs.unsqueeze(0))\n",
    "\n",
    "        output = torch.cat((embedded[0], attn_applied[0]), 1)\n",
    "        output = self.attn_combine(output).unsqueeze(0)\n",
    "\n",
    "        for i in range(self.n_layers):\n",
    "            output = F.relu(output)\n",
    "            output, hidden = self.gru(output, hidden)\n",
    "\n",
    "        #output = F.log_softmax(self.out(output[0]), dim=1)\n",
    "        output = F.log_softmax(self.out(output[0]))\n",
    "        return output, hidden, attn_weights\n",
    "\n",
    "    def initHidden(self):\n",
    "        result = Variable(torch.zeros(1, 1, self.hidden_size))\n",
    "        if use_cuda:\n",
    "            return result.cuda()\n",
    "        else:\n",
    "            return result"
   ]
  },
  {
   "cell_type": "code",
   "execution_count": 14,
   "metadata": {},
   "outputs": [],
   "source": [
    "#文をトークナイズした後、インデックスに置き換え、リストとして返す関数\n",
    "def indexes_from_sentence(lang, sentence):\n",
    "    \"\"\"\n",
    "    Extract indexes from a sentence (sentence->word->index)\n",
    "    :param lang: language\n",
    "    :param sentence: input sentence\n",
    "    :return: list of indexes\n",
    "    >>> lang.name\n",
    "    >>> 'jpn'\n",
    "    >>> sentence\n",
    "    >>> '俺はいかしてる。'\n",
    "    >>>  [652, 2632, 477, 3003, 5, 1]\n",
    "    \"\"\"\n",
    "    if lang.name in ['eng', 'fra']:\n",
    "        return [lang.word2index[word] for word in sentence.split(' ')]\n",
    "    if lang.name == 'jpn':\n",
    "        return [lang.word2index[word] for word in mcb_tokenize(sentence)]\n",
    "\n"
   ]
  },
  {
   "cell_type": "code",
   "execution_count": 15,
   "metadata": {},
   "outputs": [],
   "source": [
    "# indexes_from_sentence（）によって文からワードインデックスのリストを取得したのち、\n",
    "# Variableテンソル形式に変換した値を返す関数\n",
    "def variable_from_sentence(lang, sentence):\n",
    "    \"\"\"\n",
    "    Convert every word into index and put them together with EOS\n",
    "    After that, change the indexes to Variable format\n",
    "    Size of result is determined based on sentence length\n",
    "    (No need to be fixed always)\n",
    "    :param lang: language\n",
    "    :param sentence: input sentence\n",
    "    :return: Variables of a sentence\n",
    "    \"\"\"\n",
    "    indexes = indexes_from_sentence(lang, sentence)\n",
    "    indexes.append(EOS_token)\n",
    "    result = Variable(torch.LongTensor(indexes).view(-1, 1))\n",
    "    if use_cuda:\n",
    "        return result.cuda()\n",
    "    else:\n",
    "        return result\n"
   ]
  },
  {
   "cell_type": "code",
   "execution_count": 16,
   "metadata": {},
   "outputs": [],
   "source": [
    "# 入力文、出力文のVariableテンソルを取得する関数\n",
    "def variables_from_pair(pair):\n",
    "    \"\"\"\n",
    "    Generate sentence index Variables for input and output\n",
    "    Then create a list to store them as pair\n",
    "    :param pair: sentence pair\n",
    "    :return: Variable sentence index pair\n",
    "    \"\"\"\n",
    "    input_variable = variable_from_sentence(input_lang, pair[0])\n",
    "    target_variable = variable_from_sentence(output_lang, pair[1])\n",
    "    return (input_variable, target_variable)\n",
    "\n"
   ]
  },
  {
   "cell_type": "code",
   "execution_count": 17,
   "metadata": {},
   "outputs": [],
   "source": [
    "# 秒を分に変換する関数\n",
    "def as_minutes(s):\n",
    "    \"\"\"\n",
    "    Convert second to minutes and second\n",
    "    :param s: second\n",
    "    :return: minutes and second string\n",
    "    \"\"\"\n",
    "    m = math.floor(s / 60)\n",
    "    s -= m * 60\n",
    "    return '%dm %ds' % (m, s)"
   ]
  },
  {
   "cell_type": "code",
   "execution_count": 18,
   "metadata": {},
   "outputs": [],
   "source": [
    "# 経過時間を算出する関数\n",
    "def time_since(since, percent):\n",
    "    \"\"\"\n",
    "    Calculate time since 'since'\n",
    "    :param since: started time\n",
    "    :param percent:\n",
    "    :return:\n",
    "    \"\"\"\n",
    "    now = time.time()\n",
    "    s = now - since  # erapsed time [s]\n",
    "    es = s / (percent)  # erapsed time [ratio]\n",
    "    rs = es - s  # remaining time\n",
    "    return '%s (- %s)' % (as_minutes(s), as_minutes(rs))"
   ]
  },
  {
   "cell_type": "code",
   "execution_count": 19,
   "metadata": {},
   "outputs": [],
   "source": [
    "# データポイントを描画する関数\n",
    "def show_plot(points):\n",
    "    \"\"\"\n",
    "    Prepare plot data\n",
    "    :param points: plot data point\n",
    "    :return: None\n",
    "    \"\"\"\n",
    "    plt.figure()\n",
    "    fig, ax = plt.subplots()\n",
    "    # this locator puts ticks at regular intervals\n",
    "    loc = ticker.MultipleLocator(base=0.2)\n",
    "    ax.yaxis.set_major_locator(loc)\n",
    "    plt.plot(points)"
   ]
  },
  {
   "cell_type": "code",
   "execution_count": 20,
   "metadata": {},
   "outputs": [],
   "source": [
    "# 入力variable, 出力variable, エンコーダ、デコーダなどを元に、損失を計算する関数\n",
    "def train(input_variable, target_variable, encoder, decoder, encoder_optimizer, decoder_optimizer, criterion, max_length=MAX_LENGTH):\n",
    "    \"\"\"\n",
    "    Perform training\n",
    "    :param input_variable:\n",
    "    :param target_variable:\n",
    "    :param encoder:\n",
    "    :param decoder:\n",
    "    :param encoder_optimizer:\n",
    "    :param decoder_optimizer:\n",
    "    :param criterion:\n",
    "    :param max_length:\n",
    "    :return: Loss data\n",
    "    \"\"\"\n",
    "    # Initialization\n",
    "    encoder_hidden = encoder.initHidden()\n",
    "\n",
    "    encoder_optimizer.zero_grad()\n",
    "    decoder_optimizer.zero_grad()\n",
    "\n",
    "    input_length = input_variable.size()[0]\n",
    "    target_length = target_variable.size()[0]\n",
    "\n",
    "    # Encoding\n",
    "    encoder_outputs = Variable(torch.zeros(max_length, encoder.hidden_size))\n",
    "    encoder_outputs = encoder_outputs.cuda() if use_cuda else encoder_outputs\n",
    "\n",
    "    loss = 0\n",
    "\n",
    "    for ei in range(input_length):\n",
    "        encoder_output, encoder_hidden = encoder(input_variable[ei], encoder_hidden)\n",
    "        encoder_outputs[ei] = encoder_output[0][0]\n",
    "\n",
    "    # Decoding\n",
    "    decoder_input = Variable(torch.LongTensor([[SOS_token]]))\n",
    "    decoder_input = decoder_input.cuda() if use_cuda else decoder_input\n",
    "\n",
    "    decoder_hidden = encoder_hidden\n",
    "\n",
    "    # use_teacher_forcing is activated randomly (once in every twice)\n",
    "    use_teacher_forcing = True if random.random() < teacher_forcing_ratio else False\n",
    "\n",
    "    if use_teacher_forcing:\n",
    "        # Teacher forcing: Feed the target as the next input\n",
    "        for di in range(target_length):\n",
    "            decoder_output, decoder_hidden, decoder_attention = decoder(\n",
    "                decoder_input, decoder_hidden, encoder_outputs)\n",
    "\n",
    "            # Calculate loss function\n",
    "            loss += criterion(decoder_output, target_variable[di])\n",
    "\n",
    "            # Teacher forcing\n",
    "            decoder_input = target_variable[di]\n",
    "\n",
    "    else:\n",
    "        # Without teacher forcing: use its own predictions as the next input\n",
    "        for di in range(target_length):\n",
    "            decoder_output, decoder_hidden, decoder_attention = decoder(\n",
    "                decoder_input, decoder_hidden, encoder_outputs)\n",
    "\n",
    "            # Calculate input to decoder\n",
    "            topv, topi = decoder_output.data.topk(1)\n",
    "            ni = topi[0][0]\n",
    "            decoder_input = Variable(torch.LongTensor([[ni]]))\n",
    "            decoder_input = decoder_input.cuda() if use_cuda else decoder_input\n",
    "\n",
    "            # Calculate loss function\n",
    "            loss += criterion(decoder_output, target_variable[di])\n",
    "\n",
    "            if ni == EOS_token:\n",
    "                break\n",
    "\n",
    "    loss.backward()\n",
    "\n",
    "    encoder_optimizer.step()\n",
    "    decoder_optimizer.step()\n",
    "\n",
    "    return loss.data[0] / target_length"
   ]
  },
  {
   "cell_type": "code",
   "execution_count": 21,
   "metadata": {},
   "outputs": [],
   "source": [
    "# 指定されたn_iters回数分イテレーションを行い、train()で計算した損失をprintし、プロットする関数\n",
    "def train_iters(encoder, decoder, n_iters, print_every=1000, plot_every=100, learning_rate=0.01):\n",
    "    \"\"\"\n",
    "    Perform training in each iteration\n",
    "    :param encoder: encoder instance\n",
    "    :param decoder: decoder instance\n",
    "    :param n_iters: number of iteration\n",
    "    :param print_every: timing to print\n",
    "    :param plot_every: timing to plot\n",
    "    :param learning_rate: learning rate\n",
    "    :return: None\n",
    "    \"\"\"\n",
    "    # Initiazliaation\n",
    "    start = time.time()\n",
    "    plot_losses = []\n",
    "    print_loss_total = 0  # Reset every print_every\n",
    "    plot_loss_total = 0  # Reset every plot_every\n",
    "\n",
    "    # Define opimizer\n",
    "    encoder_optimizer = optim.SGD(encoder.parameters(), lr=learning_rate)\n",
    "    decoder_optimizer = optim.SGD(decoder.parameters(), lr=learning_rate)\n",
    "\n",
    "    # Randomly pick up variable pairs\n",
    "    training_pairs = [variables_from_pair(random.choice(pairs)) for i in range(n_iters)]\n",
    "\n",
    "    # Define criteria to compute loss function\n",
    "    criterion = nn.NLLLoss()\n",
    "\n",
    "    # In every iteration, calculate loss using train() function\n",
    "    # The loss is used for print and plot\n",
    "    for iter in range(1, n_iters + 1):\n",
    "\n",
    "        # Extract a variable pair for training\n",
    "        training_pair = training_pairs[iter - 1]\n",
    "        input_variable = training_pair[0]\n",
    "        target_variable = training_pair[1]\n",
    "\n",
    "        # Compute loss\n",
    "        loss = train(input_variable, target_variable, encoder,\n",
    "                     decoder, encoder_optimizer, decoder_optimizer, criterion)\n",
    "        print_loss_total += loss\n",
    "        plot_loss_total += loss\n",
    "\n",
    "        # Print loss data\n",
    "        if iter % print_every == 0:\n",
    "            print_loss_avg = print_loss_total / print_every\n",
    "            print_loss_total = 0\n",
    "            print('%s (%d %d%%) %.4f' % (time_since(start, iter / n_iters),\n",
    "                                         iter, iter / n_iters * 100, print_loss_avg))\n",
    "            # 11m 20s (- 158m 47s) (5000 6%) 2.9332\n",
    "            # 23m 19s (- 151m 34s) (10000 13%) 2.3810\n",
    "            # ..\n",
    "            # 174m 24s (- 0m 0s) (75000 100%) 0.6343\n",
    "\n",
    "        # Plot loss data\n",
    "        if iter % plot_every == 0:\n",
    "            plot_loss_avg = plot_loss_total / plot_every\n",
    "            plot_losses.append(plot_loss_avg)\n",
    "            plot_loss_total = 0\n",
    "\n",
    "    # Prepare data for plot (Later the data is shown in show_attention())\n",
    "    show_plot(plot_losses)\n"
   ]
  },
  {
   "cell_type": "code",
   "execution_count": 22,
   "metadata": {},
   "outputs": [],
   "source": [
    "# 評価用にsentenceで与えた入力文を、訓練後のencoder, decoderを使って出力文を生成する関数\n",
    "def evaluate(encoder, decoder, sentence, max_length=MAX_LENGTH):\n",
    "    \"\"\"\n",
    "    Perform encoding and decoding for evaluation\n",
    "    :param encoder: encoder instance\n",
    "    :param decoder: decoder instance\n",
    "    :param sentence: input sentence\n",
    "    :param max_length: maximum length of encoder output\n",
    "    :return: decoded words and attention\n",
    "    \"\"\"\n",
    "    # Prepare input variable\n",
    "    input_variable = variable_from_sentence(input_lang, sentence)\n",
    "    input_length = input_variable.size()[0]\n",
    "\n",
    "    # Prepare variable for encoder\n",
    "    encoder_hidden = encoder.initHidden()\n",
    "    encoder_outputs = Variable(torch.zeros(max_length, encoder.hidden_size))\n",
    "    encoder_outputs = encoder_outputs.cuda() if use_cuda else encoder_outputs\n",
    "\n",
    "    # Perform encoding\n",
    "    for ei in range(input_length):\n",
    "        encoder_output, encoder_hidden = encoder(input_variable[ei], encoder_hidden)\n",
    "        encoder_outputs[ei] = encoder_outputs[ei] + encoder_output[0][0]\n",
    "\n",
    "    # Prepare variable for decoder\n",
    "    decoder_input = Variable(torch.LongTensor([[SOS_token]]))  # SOS\n",
    "    decoder_input = decoder_input.cuda() if use_cuda else decoder_input\n",
    "\n",
    "    decoder_hidden = encoder_hidden\n",
    "\n",
    "    decoded_words = []\n",
    "    decoder_attentions = torch.zeros(max_length, max_length)\n",
    "\n",
    "    # Perform decoding\n",
    "    for di in range(max_length):\n",
    "        decoder_output, decoder_hidden, decoder_attention = decoder(\n",
    "            decoder_input, decoder_hidden, encoder_outputs)\n",
    "        decoder_attentions[di] = decoder_attention.data\n",
    "        topv, topi = decoder_output.data.topk(1)\n",
    "        ni = topi[0][0]\n",
    "        if ni == EOS_token:\n",
    "            decoded_words.append('<EOS>')\n",
    "            break\n",
    "        else:\n",
    "            decoded_words.append(output_lang.index2word[ni])\n",
    "\n",
    "        decoder_input = Variable(torch.LongTensor([[ni]]))\n",
    "        decoder_input = decoder_input.cuda() if use_cuda else decoder_input\n",
    "\n",
    "    return decoded_words, decoder_attentions[:di + 1]\n"
   ]
  },
  {
   "cell_type": "code",
   "execution_count": 23,
   "metadata": {},
   "outputs": [],
   "source": [
    "# コーパスからランダムに入力文を選出し、翻訳した後その出力を原文ペアと共にprintする関数\n",
    "def evaluate_randomly(encoder, decoder, n=10):\n",
    "    \"\"\"\n",
    "    Randomly pickup sentence pair\n",
    "    :param encoder: encoder instance\n",
    "    :param decoder: decoder instance\n",
    "    :param n: numbers of evaluation\n",
    "    :return: None\n",
    "    \"\"\"\n",
    "    for i in range(n):\n",
    "        pair = random.choice(pairs)\n",
    "        print('>', pair[0])\n",
    "        print('=', pair[1])\n",
    "        output_words, attentions = evaluate(encoder, decoder, pair[0])\n",
    "        output_sentence = ' '.join(output_words)\n",
    "        print('<', output_sentence)\n",
    "        print('')\n",
    "        # > vous etes aveuglee par l amour .\n",
    "        # = you are blinded by love .\n",
    "        # < you are blinded by love . <EOS>"
   ]
  },
  {
   "cell_type": "code",
   "execution_count": 24,
   "metadata": {},
   "outputs": [],
   "source": [
    "# Attention の描画\n",
    "def show_attention(input_sentence, output_words, attentions):\n",
    "    \"\"\"\n",
    "    Show attention graphically\n",
    "    :param input_sentence:\n",
    "    :param output_words:\n",
    "    :param attentions:\n",
    "    :return:\n",
    "    \"\"\"\n",
    "    # Set up figure with colorbar\n",
    "    fig = plt.figure()\n",
    "    ax = fig.add_subplot(111)\n",
    "    cax = ax.matshow(attentions.numpy(), cmap='bone')\n",
    "    fig.colorbar(cax)\n",
    "\n",
    "    # Set up axes\n",
    "    #ax.set_xticklabels([''] + input_sentence.split(' ') + ['<EOS>'], rotation=90)\n",
    "    ax.set_xticklabels([''] + mcb_tokenize(input_sentence) + ['<EOS>'], rotation=90)\n",
    "    \n",
    "    ax.set_yticklabels([''] + output_words)\n",
    "\n",
    "    # Show label at every tick\n",
    "    ax.xaxis.set_major_locator(ticker.MultipleLocator(1))\n",
    "    ax.yaxis.set_major_locator(ticker.MultipleLocator(1))\n",
    "\n",
    "    plt.show()\n"
   ]
  },
  {
   "cell_type": "code",
   "execution_count": 25,
   "metadata": {},
   "outputs": [],
   "source": [
    "# サンプル文による評価の実行、及びアテンションの描画\n",
    "def evaluate_and_show_attention(input_sentence):\n",
    "    \"\"\"\n",
    "    Perform evaluaton and plot figures (loss, attention) for sample input sentence\n",
    "    :param input_sentence: input sentence\n",
    "    :return: None\n",
    "    \"\"\"\n",
    "    output_words, attentions = evaluate(encoder1, attn_decoder1, input_sentence)\n",
    "    print('input =', input_sentence)\n",
    "    print('output =', ' '.join(output_words))\n",
    "    show_attention(input_sentence, output_words, attentions)\n"
   ]
  },
  {
   "cell_type": "code",
   "execution_count": 26,
   "metadata": {},
   "outputs": [
    {
     "name": "stdout",
     "output_type": "stream",
     "text": [
      "Reading lines...\n",
      "Read 42093 sentence pairs\n",
      "Trimmed to 1166 sentence pairs\n",
      "Counting words...\n",
      "Counted words:\n",
      "jpn 1289\n",
      "eng 1161\n"
     ]
    }
   ],
   "source": [
    "# コーバス読み込みと情報表示\n",
    "input_lang, output_lang, pairs = prepareData('eng', 'jpn', True)\n"
   ]
  },
  {
   "cell_type": "code",
   "execution_count": 27,
   "metadata": {},
   "outputs": [
    {
     "name": "stdout",
     "output_type": "stream",
     "text": [
      "['彼女はスケートが出来る。', 'she is able to skate.']\n"
     ]
    }
   ],
   "source": [
    "# サンプル入出力文表示\n",
    "print(random.choice(pairs))"
   ]
  },
  {
   "cell_type": "code",
   "execution_count": 28,
   "metadata": {},
   "outputs": [],
   "source": [
    "# エンコーダ　インスタンスの生成\n",
    "encoder1 = EncoderRNN(input_lang.n_words, hidden_size)"
   ]
  },
  {
   "cell_type": "code",
   "execution_count": 29,
   "metadata": {},
   "outputs": [],
   "source": [
    "# デコーダインスタンス（アテンションメカニズム付き）の生成\n",
    "attn_decoder1 = AttnDecoderRNN(hidden_size, output_lang.n_words,  1, dropout_p=0.1)"
   ]
  },
  {
   "cell_type": "code",
   "execution_count": 30,
   "metadata": {},
   "outputs": [
    {
     "name": "stdout",
     "output_type": "stream",
     "text": [
      "5m 31s (- 77m 16s) (5000 6%) 2.8059\n",
      "10m 36s (- 68m 56s) (10000 13%) 1.8849\n",
      "15m 47s (- 63m 9s) (15000 20%) 1.0232\n",
      "21m 6s (- 58m 2s) (20000 26%) 0.4375\n",
      "26m 42s (- 53m 25s) (25000 33%) 0.1726\n",
      "32m 5s (- 48m 7s) (30000 40%) 0.1038\n",
      "37m 19s (- 42m 39s) (35000 46%) 0.0768\n",
      "42m 41s (- 37m 20s) (40000 53%) 0.0681\n",
      "47m 53s (- 31m 55s) (45000 60%) 0.0588\n",
      "53m 6s (- 26m 33s) (50000 66%) 0.0611\n",
      "58m 21s (- 21m 13s) (55000 73%) 0.0558\n",
      "63m 29s (- 15m 52s) (60000 80%) 0.0550\n",
      "68m 33s (- 10m 32s) (65000 86%) 0.0427\n",
      "73m 37s (- 5m 15s) (70000 93%) 0.0483\n",
      "78m 41s (- 0m 0s) (75000 100%) 0.0451\n"
     ]
    },
    {
     "data": {
      "text/plain": [
       "<Figure size 432x288 with 0 Axes>"
      ]
     },
     "metadata": {},
     "output_type": "display_data"
    },
    {
     "data": {
      "image/png": "[encoded data removed]",
      "text/plain": [
       "<Figure size 432x288 with 1 Axes>"
      ]
     },
     "metadata": {},
     "output_type": "display_data"
    }
   ],
   "source": [
    "# 訓練イテレーション実施\n",
    "train_iters(encoder1, attn_decoder1, 75000, print_every=5000)"
   ]
  },
  {
   "cell_type": "code",
   "execution_count": 31,
   "metadata": {},
   "outputs": [
    {
     "name": "stdout",
     "output_type": "stream",
     "text": [
      "> 彼女はのんきだ。\n",
      "= she is easygoing.\n",
      "< she is easygoing. <EOS>\n",
      "\n",
      "> 彼はびくびくしている。\n",
      "= he is afraid of his own shadow.\n",
      "< he is afraid of his own shadow. <EOS>\n",
      "\n",
      "> 彼は暮し向きが良い。\n",
      "= he is well off.\n",
      "< he is well off. <EOS>\n",
      "\n",
      "> 私は一人っ子です。\n",
      "= i am an only child.\n",
      "< i am an only child. <EOS>\n",
      "\n",
      "> 彼はかんかんに怒っている。\n",
      "= he is boiling with rage.\n",
      "< he is very angry. <EOS>\n",
      "\n",
      "> 彼は私の古い友達です。\n",
      "= he is my old friend.\n",
      "< he is my old friend. <EOS>\n",
      "\n",
      "> 彼女は靴にたくさん金を使う。\n",
      "= she spends a lot of money on shoes.\n",
      "< she spends a lot of money on shoes. <EOS>\n",
      "\n",
      "> 彼女は遅刻魔だ。\n",
      "= she is habitually late.\n",
      "< she is habitually late. <EOS>\n",
      "\n",
      "> 彼は親しい友人だ。\n",
      "= he is my close friend.\n",
      "< he is my close friend. <EOS>\n",
      "\n",
      "> 彼らは始めるところです。\n",
      "= they are about to start.\n",
      "< they are about to start. <EOS>\n",
      "\n"
     ]
    }
   ],
   "source": [
    "# コーパスからランダムに入力文を選出し、翻訳した後その出力を原文ペアと共に出力\n",
    "evaluate_randomly(encoder1, attn_decoder1)"
   ]
  },
  {
   "cell_type": "code",
   "execution_count": 32,
   "metadata": {},
   "outputs": [],
   "source": [
    "# サンプル文に対する出力文表示\n",
    "output_words, attentions = evaluate(encoder1, attn_decoder1, \"彼は生まれつき寛大な人だ。\")"
   ]
  },
  {
   "cell_type": "code",
   "execution_count": 33,
   "metadata": {},
   "outputs": [
    {
     "data": {
      "text/plain": [
       "<matplotlib.image.AxesImage at 0x123560cc0>"
      ]
     },
     "execution_count": 33,
     "metadata": {},
     "output_type": "execute_result"
    },
    {
     "data": {
      "image/png": "[encoded data removed]",
      "text/plain": [
       "<Figure size 360x288 with 1 Axes>"
      ]
     },
     "metadata": {},
     "output_type": "display_data"
    }
   ],
   "source": [
    "# アテンションの描画\n",
    "plt.matshow(attentions.numpy())"
   ]
  },
  {
   "cell_type": "code",
   "execution_count": 34,
   "metadata": {},
   "outputs": [
    {
     "name": "stdout",
     "output_type": "stream",
     "text": [
      "input = 彼は見聞の広い人だ。\n",
      "output = he is a well informed person. <EOS>\n"
     ]
    },
    {
     "data": {
      "image/png": "[encoded data removed]",
      "text/plain": [
       "<Figure size 432x288 with 2 Axes>"
      ]
     },
     "metadata": {},
     "output_type": "display_data"
    }
   ],
   "source": [
    "# テスト 1\n",
    "evaluate_and_show_attention(\"彼は見聞の広い人だ。\")"
   ]
  },
  {
   "cell_type": "code",
   "execution_count": 35,
   "metadata": {},
   "outputs": [
    {
     "name": "stdout",
     "output_type": "stream",
     "text": [
      "input = 私はちょうど散歩に出かけるところです。\n",
      "output = i am just going for a walk. <EOS>\n"
     ]
    },
    {
     "data": {
      "image/png": "[encoded data removed]",
      "text/plain": [
       "<Figure size 432x288 with 2 Axes>"
      ]
     },
     "metadata": {},
     "output_type": "display_data"
    }
   ],
   "source": [
    "# テスト 2\n",
    "evaluate_and_show_attention(\"私はちょうど散歩に出かけるところです。\")"
   ]
  },
  {
   "cell_type": "code",
   "execution_count": 36,
   "metadata": {},
   "outputs": [
    {
     "name": "stdout",
     "output_type": "stream",
     "text": [
      "input = 彼女は彼より頭がいい。\n",
      "output = she is smarter than he is. <EOS>\n"
     ]
    },
    {
     "data": {
      "image/png": "[encoded data removed]",
      "text/plain": [
       "<Figure size 432x288 with 2 Axes>"
      ]
     },
     "metadata": {},
     "output_type": "display_data"
    }
   ],
   "source": [
    "# テスト 3\n",
    "evaluate_and_show_attention(\"彼女は彼より頭がいい。\")"
   ]
  }
 ],
 "metadata": {
  "kernelspec": {
   "display_name": "Python 3",
   "language": "python",
   "name": "python3"
  },
  "language_info": {
   "codemirror_mode": {
    "name": "ipython",
    "version": 3
   },
   "file_extension": ".py",
   "mimetype": "text/x-python",
   "name": "python",
   "nbconvert_exporter": "python",
   "pygments_lexer": "ipython3",
   "version": "3.6.5"
  }
 },
 "nbformat": 4,
 "nbformat_minor": 2
}
